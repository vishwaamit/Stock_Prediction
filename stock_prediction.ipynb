{
 "cells": [
  {
   "cell_type": "code",
   "execution_count": 1,
   "metadata": {},
   "outputs": [],
   "source": [
    "from numpy import array,mean"
   ]
  },
  {
   "cell_type": "code",
   "execution_count": 2,
   "metadata": {},
   "outputs": [],
   "source": [
    "x=array([1,2,3,4,5])\n",
    "y=array([1,3,5,7,9])"
   ]
  },
  {
   "cell_type": "code",
   "execution_count": 3,
   "metadata": {},
   "outputs": [
    {
     "data": {
      "text/plain": [
       "(2.0, -1.0)"
      ]
     },
     "execution_count": 3,
     "metadata": {},
     "output_type": "execute_result"
    }
   ],
   "source": [
    "def lin(dx,dy):\n",
    "    m=((mean(dx)*mean(dy))-mean(dx*dy))/((mean(dx)**2)-mean(dx**2))\n",
    "    c=mean(dy)-m*mean(dx)\n",
    "    return m,c\n",
    "lin(x,y)"
   ]
  },
  {
   "cell_type": "code",
   "execution_count": 4,
   "metadata": {},
   "outputs": [],
   "source": [
    "m,c=lin(x,y)"
   ]
  },
  {
   "cell_type": "code",
   "execution_count": 5,
   "metadata": {},
   "outputs": [],
   "source": [
    "ry=[m*i+c for i in x]"
   ]
  },
  {
   "cell_type": "code",
   "execution_count": 6,
   "metadata": {},
   "outputs": [],
   "source": [
    "import matplotlib.pyplot as plt"
   ]
  },
  {
   "cell_type": "code",
   "execution_count": 7,
   "metadata": {},
   "outputs": [
    {
     "data": {
      "image/png": "[encoded data removed]",
      "text/plain": [
       "<matplotlib.figure.Figure at 0x78881b0>"
      ]
     },
     "metadata": {
      "needs_background": "light"
     },
     "output_type": "display_data"
    }
   ],
   "source": [
    "plt.scatter(x,y,marker='X',s=150)\n",
    "plt.plot(x,ry,\"--\")\n",
    "plt.plot(x,[mean(y) for _ in x],\":\")\n",
    "plt.show()"
   ]
  },
  {
   "cell_type": "code",
   "execution_count": 8,
   "metadata": {},
   "outputs": [
    {
     "data": {
      "text/plain": [
       "1.0"
      ]
     },
     "execution_count": 8,
     "metadata": {},
     "output_type": "execute_result"
    }
   ],
   "source": [
    "1-(sum((ry-y)**2))/(sum((mean(y)-y)**2))"
   ]
  },
  {
   "cell_type": "code",
   "execution_count": 9,
   "metadata": {},
   "outputs": [],
   "source": [
    "x=array([1,2,3,4,5,6,7,8,9,10])\n",
    "y=array([2,4,6,8,10,12,14,16,18,20])"
   ]
  },
  {
   "cell_type": "code",
   "execution_count": 10,
   "metadata": {},
   "outputs": [
    {
     "data": {
      "text/plain": [
       "((2.0, 10.0), (2.0, 0.0))"
      ]
     },
     "execution_count": 10,
     "metadata": {},
     "output_type": "execute_result"
    }
   ],
   "source": [
    "x1=x[:5]\n",
    "x2=x[5:]\n",
    "y1=y[5:]\n",
    "m,c=lin(x1,y1)\n",
    "lin(x1,y1),lin(x,y)"
   ]
  },
  {
   "cell_type": "code",
   "execution_count": 11,
   "metadata": {},
   "outputs": [
    {
     "name": "stdout",
     "output_type": "stream",
     "text": [
      "22.0 6\n",
      "24.0 7\n",
      "26.0 8\n",
      "28.0 9\n",
      "30.0 10\n"
     ]
    }
   ],
   "source": [
    "for i in x2:\n",
    "    print(m*i+c,i)"
   ]
  },
  {
   "cell_type": "code",
   "execution_count": null,
   "metadata": {},
   "outputs": [],
   "source": []
  },
  {
   "cell_type": "code",
   "execution_count": 12,
   "metadata": {},
   "outputs": [],
   "source": [
    "import numpy as np\n",
    "from sklearn.linear_model import LinearRegression\n",
    "from pandas_datareader import data as dt\n",
    "import datetime\n",
    "import pandas as pd\n",
    "from sklearn.model_selection import train_test_split\n",
    "import datetime\n",
    "def fun(stock,test,days,lab,message):\n",
    "    global f\n",
    "    start = datetime.datetime(2010, 1, 1)\n",
    "    end = datetime.datetime.now()\n",
    "    f = dt.DataReader(stock, 'tiingo', start, end,access_key='911ee28d70118f9cea5a84d2b8f1436fa32d3116')\n",
    "    f.reset_index(inplace=True)\n",
    "    f.set_index('date',inplace=True)\n",
    "    f=f[['adjClose', 'adjHigh', 'adjLow', 'adjOpen', 'adjVolume',]]\n",
    "    no_days=int(days)\n",
    "    f['newclose']=f['adjClose'].shift(-no_days)\n",
    "    x=f.drop(['adjClose','newclose'],axis=1)\n",
    "    y=f['newclose'].dropna()\n",
    "    x1=x[:-no_days]\n",
    "    x_pr=x[-no_days:]\n",
    "    x_tr,x_ts,y_tr,y_ts=train_test_split(x1,y,test_size=float(test))\n",
    "    alg=LinearRegression()\n",
    "    alg.fit(x_tr,y_tr)\n",
    "    lab.config(text=str(alg.score(x_ts,y_ts)))\n",
    "    prd=alg.predict(x_pr)\n",
    "    message.config(text=str(prd))\n",
    "    lastday=f.iloc[-1].name\n",
    "    f['forecast']=np.nan\n",
    "    for i in prd:\n",
    "        lastday+=datetime.timedelta(1)\n",
    "        f.loc[lastday]=[np.nan for _ in range(6)]+[i]\n",
    "def vis():\n",
    "    %matplotlib tk\n",
    "    f['adjClose'].plot()\n",
    "    f['forecast'].plot()\n",
    "    plt.show()"
   ]
  },
  {
   "cell_type": "code",
   "execution_count": 13,
   "metadata": {},
   "outputs": [],
   "source": [
    "from tkinter import *\n",
    "def gui():\n",
    "    scr=Tk()\n",
    "    label=Label(scr,font=('times',20,'bold'),text='stock name')\n",
    "    label.grid(row=0,column=0)\n",
    "    stock=StringVar()\n",
    "    op=OptionMenu(scr,stock,'googl','msft')\n",
    "    op.grid(row=0,column=1)\n",
    "    label1=Label(scr,font=('times',20,'bold'),text='test Size')\n",
    "    label1.grid(row=1,column=0)\n",
    "    test=DoubleVar()\n",
    "    op1=OptionMenu(scr,test,0.1,0.2,0.3)\n",
    "    op1.grid(row=1,column=1)\n",
    "    label2=Label(scr,font=('times',20,'bold'),text='number of days')\n",
    "    label2.grid(row=2,column=0)\n",
    "    e=Entry(scr,font=('times',20,'bold'))\n",
    "    e.grid(row=2,column=1)\n",
    "    b=Button(scr,text='evaluate',font=('times',20,'bold'),command=lambda :fun(stock.get(),test.get(),e.get(),label4,m))\n",
    "    b.grid(row=3,column=0)\n",
    "    b1=Button(scr,text='visualize',font=('times',20,'bold'),command=vis)\n",
    "    b1.grid(row=3,column=1)\n",
    "    label3=Label(scr,font=('times',20,'bold'),text='Acurracy')\n",
    "    label3.grid(row=4,column=0)\n",
    "    label4=Label(scr,font=('times',20,'bold'))\n",
    "    label4.grid(row=4,column=1)\n",
    "    m=Message(scr,font=('times',20,'bold'))\n",
    "    m.grid(row=5,columnspan=7)\n",
    "    scr.mainloop()"
   ]
  },
  {
   "cell_type": "code",
   "execution_count": 14,
   "metadata": {},
   "outputs": [],
   "source": [
    "gui()"
   ]
  },
  {
   "cell_type": "code",
   "execution_count": null,
   "metadata": {},
   "outputs": [],
   "source": []
  },
  {
   "cell_type": "code",
   "execution_count": null,
   "metadata": {},
   "outputs": [],
   "source": []
  }
 ],
 "metadata": {
  "kernelspec": {
   "display_name": "Python 3",
   "language": "python",
   "name": "python3"
  },
  "language_info": {
   "codemirror_mode": {
    "name": "ipython",
    "version": 3
   },
   "file_extension": ".py",
   "mimetype": "text/x-python",
   "name": "python",
   "nbconvert_exporter": "python",
   "pygments_lexer": "ipython3",
   "version": "3.6.0"
  }
 },
 "nbformat": 4,
 "nbformat_minor": 1
}
